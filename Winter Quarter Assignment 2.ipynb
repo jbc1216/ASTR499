{
 "cells": [
  {
   "cell_type": "code",
   "execution_count": 4,
   "metadata": {},
   "outputs": [],
   "source": [
    "import numpy as np\n",
    "import matplotlib.pyplot as plt\n",
    "import pandas as pd\n",
    "import scipy.ndimage as ndimage\n",
    "%matplotlib inline"
   ]
  },
  {
   "cell_type": "code",
   "execution_count": 49,
   "metadata": {},
   "outputs": [
    {
     "data": {
      "image/png": "[encoded data removed]",
      "text/plain": [
       "<Figure size 432x288 with 2 Axes>"
      ]
     },
     "metadata": {
      "needs_background": "light"
     },
     "output_type": "display_data"
    }
   ],
   "source": [
    "def gaus2d(size, fwhm, center=None):\n",
    "    x = np.arange(0, size, 1, float)\n",
    "    y=x[:, np.newaxis]\n",
    "    if center is None:\n",
    "        x0 = y0 = size // 2\n",
    "    else:\n",
    "        x0 = center[0]\n",
    "        y0 = center[1]\n",
    "    return np.exp(-4 * np.log(2) * ((x - x0)**2 + (y - y0)**2) / fwhm**2)\n",
    "\n",
    "z = gaus2d(32, fwhm = 0.8/0.26, center=[16,16])\n",
    "\n",
    "fig, ax = plt.subplots(1,1)\n",
    "zplt = ax.imshow(z, cmap='viridis')\n",
    "ax.set_title('Randomized 32x32pixel Gaussian')\n",
    "plt.colorbar(zplt)\n",
    "plt.show()"
   ]
  },
  {
   "cell_type": "code",
   "execution_count": 44,
   "metadata": {},
   "outputs": [
    {
     "name": "stdout",
     "output_type": "stream",
     "text": [
      "3.076923076923077\n",
      "3.06124\n"
     ]
    }
   ],
   "source": [
    "# want FWHM of 0.8 arcseconds w/ [0.26 arcsec/pixel]\n",
    "def FWHM(sigma):\n",
    "    result = 2.3548 * sigma\n",
    "    return result\n",
    "print(0.8 / 0.26)\n",
    "print(FWHM())"
   ]
  },
  {
   "cell_type": "code",
   "execution_count": null,
   "metadata": {},
   "outputs": [],
   "source": []
  }
 ],
 "metadata": {
  "kernelspec": {
   "display_name": "Python 3",
   "language": "python",
   "name": "python3"
  },
  "language_info": {
   "codemirror_mode": {
    "name": "ipython",
    "version": 3
   },
   "file_extension": ".py",
   "mimetype": "text/x-python",
   "name": "python",
   "nbconvert_exporter": "python",
   "pygments_lexer": "ipython3",
   "version": "3.7.6"
  }
 },
 "nbformat": 4,
 "nbformat_minor": 4
}
