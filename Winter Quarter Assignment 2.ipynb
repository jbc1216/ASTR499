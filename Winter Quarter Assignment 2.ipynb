{
 "cells": [
  {
   "cell_type": "code",
   "execution_count": 3,
   "metadata": {},
   "outputs": [],
   "source": [
    "import numpy as np\n",
    "import matplotlib.pyplot as plt\n",
    "import pandas as pd\n",
    "import scipy.ndimage as ndimage\n",
    "%matplotlib inline"
   ]
  },
  {
   "cell_type": "code",
   "execution_count": null,
   "metadata": {},
   "outputs": [],
   "source": [
    "img1 = 15*np.ones((256,256))\n",
    "img1[116,126] = 100\n",
    "img2 = ndimage.shift(img1, [0.24, 0.0003], order=1)\n",
    "# img2 = np.fft.fftshift(img1)\n",
    "\n",
    "\n",
    "fig, ax = plt.subplots(1,2)\n",
    "plot1 = ax[0].imshow(img1, cmap='viridis', vmin=0, vmax=100)\n",
    "plot2 = ax[1].imshow(img2, cmap='viridis', vmin=0, vmax=100)\n",
    "cbar = plt.colorbar(plot2, location='right', ax=ax, fraction=0.05, shrink=0.75)\n",
    "ax[0].set_title('Original Image')\n",
    "ax[1].set_title('Shifted Image')\n",
    "plt.show()"
   ]
  }
 ],
 "metadata": {
  "kernelspec": {
   "display_name": "Python 3",
   "language": "python",
   "name": "python3"
  },
  "language_info": {
   "codemirror_mode": {
    "name": "ipython",
    "version": 3
   },
   "file_extension": ".py",
   "mimetype": "text/x-python",
   "name": "python",
   "nbconvert_exporter": "python",
   "pygments_lexer": "ipython3",
   "version": "3.7.6"
  }
 },
 "nbformat": 4,
 "nbformat_minor": 4
}
