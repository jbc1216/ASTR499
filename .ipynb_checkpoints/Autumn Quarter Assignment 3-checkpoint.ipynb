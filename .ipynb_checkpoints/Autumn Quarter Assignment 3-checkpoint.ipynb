{
 "cells": [
  {
   "cell_type": "code",
   "execution_count": 1,
   "metadata": {},
   "outputs": [],
   "source": [
    "import numpy as np\n",
    "import matplotlib.pyplot as plt\n",
    "import astropy.units as u\n",
    "import astropy.constants as c\n",
    "from astropy.units import cds\n",
    "cds.enable()\n",
    "import pandas as pd"
   ]
  },
  {
   "cell_type": "code",
   "execution_count": 2,
   "metadata": {},
   "outputs": [],
   "source": [
    "latitude = -30.24463 * u.deg\n",
    "longitude = -70.74942 * u.deg\n",
    "altitude = 2647 * u.m\n",
    "p0 = 101325.0 * u.Pa\n",
    "g = 9.80665 * u.m / u.s**2\n",
    "R0 = c.R\n",
    "T0 = 19. * u.deg_C\n",
    "lapserate = -6.5 * u.deg_C / u.km\n",
    "M = 0.0289644 * u.km/u.mol"
   ]
  },
  {
   "cell_type": "code",
   "execution_count": 3,
   "metadata": {},
   "outputs": [],
   "source": [
    "temperature = T0 + (lapserate * altitude)\n",
    "temperatureK = temperature.to(u.K, equivalencies=u.temperature())\n",
    "\n",
    "exponent = (-(g * M * altitude)/(R0 * temperatureK)).value\n",
    "pressure = (p0 * np.exp(exponent)).to(u.Pa)\n",
    "humidity = 40."
   ]
  },
  {
   "cell_type": "markdown",
   "metadata": {},
   "source": [
    "# Problem 1\n",
    "## Problem 1A"
   ]
  },
  {
   "cell_type": "code",
   "execution_count": 4,
   "metadata": {},
   "outputs": [
    {
     "name": "stdout",
     "output_type": "stream",
     "text": [
      "54.94327520933853 mbar\n"
     ]
    }
   ],
   "source": [
    "# calculating vapor pressure variable listed as p_w in paper\n",
    "def calcpw(RH, tin):\n",
    "    t = tin.value\n",
    "    x = np.log(RH/100)\n",
    "    td = (238.3 * (((t + 238.3)*x + (17.2694*t)) / ((t+238.3)*(17.2694 - x) - (17.2694 * t))))\n",
    "    pw = (4.50874 + (0.341724 * td**2) + (0.184889*10**-3 * td**3) + (0.238294*10**-5 * td**4) + (0.203447*10**-7 * td**5)) * u.cds.mmHg\n",
    "    return pw\n",
    "Pw = calcpw(humidity, temperature).to(u.cds.mbar)\n",
    "print(Pw)"
   ]
  },
  {
   "cell_type": "code",
   "execution_count": 5,
   "metadata": {},
   "outputs": [
    {
     "name": "stdout",
     "output_type": "stream",
     "text": [
      "729.2533850673419 mbar 54.94327520933853 mbar\n"
     ]
    }
   ],
   "source": [
    "T = temperatureK\n",
    "Ps = pressure.to(u.cds.mbar) # Dry air pressure in millibars\n",
    "print(Ps, Pw)"
   ]
  },
  {
   "cell_type": "code",
   "execution_count": 6,
   "metadata": {},
   "outputs": [],
   "source": [
    "# calculating n with given variables\n",
    "def calcindex(Tin, PSin, PWin, wavelength):\n",
    "    T = Tin.value\n",
    "    PS = PSin.value\n",
    "    PW = PWin.value\n",
    "    sig = (10**4 / wavelength).value\n",
    "    Dw = (1 + PW*(1 + (3.7e-4 * PW))*(-2.37321e-3 + (2.23366/T) - (710.792/T**2) + (7.75141e4 / T**3))) * (PW/T)\n",
    "    Ds = (1 + PS*(57.90e-8 - (9.3250e-4/T) + (0.25844/T**2)))*(PS/T)\n",
    "    n = ((2371.34 + (683939.7 / (130 - sig**2)) + (4547.3 / (38.9 - sig**2)))*Ds + (6487.31 + 58.058*sig**2 - 0.71150*sig**4 + 0.08851*sig**6)*Dw)\n",
    "    n2 = (n / 1e8) + 1\n",
    "    return n2\n",
    "\n",
    "def calcBeta(Tkin):\n",
    "    result = 0.001254*((Tkin))/(273.15*u.K)\n",
    "    return result\n",
    "\n",
    "def calcKappa(phideg, h):\n",
    "    phi = (phideg.to(u.rad)).value\n",
    "    result = 1 + 0.005302*np.sin(phi)**2 - 0.00000583*np.sin(2*phi)**2 - 0.000000315*h.value\n",
    "    return result\n",
    "\n",
    "def calcRefrac(n, beta, k, z, pressure):\n",
    "    z0 = z.to(u.rad)\n",
    "    gamma = (n-1)*(p0 / pressure)\n",
    "    n0 = gamma + 1\n",
    "    result = ((k * gamma*(1-beta)*np.tan(z0)) - (k * gamma * (beta - 0.5*gamma)*(np.tan(z0)**3)))\n",
    "    return result\n",
    "\n",
    "def calcALL(Tin, PSin, PWin, wavelength, z, pressure):\n",
    "    n = calcindex(Tin, PSin, PWin, wavelength)\n",
    "    B = calcBeta(Tin)\n",
    "    k = 1 #calcKappa(phideg, h)\n",
    "    Refrac = calcRefrac(n, B, k, z, pressure)\n",
    "    return Refrac, n, B, k"
   ]
  },
  {
   "cell_type": "markdown",
   "metadata": {},
   "source": [
    "# Problem 2\n",
    "## Problem 2A"
   ]
  },
  {
   "cell_type": "code",
   "execution_count": 7,
   "metadata": {},
   "outputs": [
    {
     "data": {
      "image/png": "[encoded data removed]",
      "text/plain": [
       "<Figure size 576x576 with 1 Axes>"
      ]
     },
     "metadata": {
      "needs_background": "light"
     },
     "output_type": "display_data"
    }
   ],
   "source": [
    "step = 10\n",
    "wavelengths = np.arange(300, 1000+step, step)*u.nm\n",
    "temperatureK = temperature.to(u.K, equivalencies=u.temperature())\n",
    "B = calcBeta(temperatureK)\n",
    "# K = calcKappa(latitude, altitude)\n",
    "K = 1\n",
    "zin = 30*u.deg\n",
    "\n",
    "n = calcindex(T, Ps, Pw, wavelengths)\n",
    "\n",
    "R = calcRefrac(n, B, K, zin, pressure)\n",
    "# Rout, nout, Bout, kout = calcALL(temperatureK, Ps, Pw, wavelengths, zin, pressure)\n",
    "\n",
    "\n",
    "gmin = 386.30*u.nm\n",
    "gmax = 567.00*u.nm\n",
    "imin = 675.90*u.nm\n",
    "imax = 833.00*u.nm\n",
    "\n",
    "\n",
    "def pltRefrac(wavelength, n_in, B_in, K_in, z_in, pressure, minwl=None, maxwl=None):\n",
    "    Refrac = calcRefrac(n_in, B_in, K_in, z_in, pressure)\n",
    "    fig, ax = plt.subplots(1,1, figsize=(8,8))\n",
    "    ax.plot(wavelength, Refrac)\n",
    "    wl_min = minwl if minwl is not None else np.min(wavelength)\n",
    "    wl_max = maxwl if maxwl is not None else np.max(wavelength)\n",
    "    ax.set_xlim(wl_min.value, wl_max.value)\n",
    "    ax.set_xlabel('Wavelength (nm)')\n",
    "    ax.set_ylabel(f'Refraction Index at {z_in} zenith angle')\n",
    "    plt.show()\n",
    "\n",
    "pltRefrac(wavelengths, n, B, K, zin, pressure)\n",
    "\n",
    "\n",
    "# def pltALL(TIN, PSIN, PWIN, waves, zin, pressure, minwl=None, maxwl=None):\n",
    "#     Rout, nout, Bout, Kout = calcALL(TIN, PSIN, PWIN, waves, zin, pressure)\n",
    "#     fig, ax = plt.subplots(1,1, figsize=(8,8))\n",
    "#     ax.plot(waves, Rout)\n",
    "#     wl_min = minwl if minwl is not None else np.min(waves)\n",
    "#     wl_max = maxwl if maxwl is not None else np.max(waves)\n",
    "#     ax.set_xlim(wl_min.value, wl_max.value)\n",
    "#     ax.set_xlabel('Wavelength (nm)')\n",
    "#     ax.set_ylabel(f'Refraction Index at {zin} zenith angle')\n",
    "#     plt.show()\n",
    "\n",
    "# pltALL(temperatureK, Ps, Pw, wavelengths, zin, pressure)"
   ]
  },
  {
   "cell_type": "markdown",
   "metadata": {},
   "source": [
    "## Problem 2B"
   ]
  },
  {
   "cell_type": "code",
   "execution_count": 8,
   "metadata": {},
   "outputs": [
    {
     "name": "stdout",
     "output_type": "stream",
     "text": [
      "1807\n"
     ]
    },
    {
     "data": {
      "image/png": "[encoded data removed]",
      "text/plain": [
       "<Figure size 432x288 with 1 Axes>"
      ]
     },
     "metadata": {
      "needs_background": "light"
     },
     "output_type": "display_data"
    }
   ],
   "source": [
    "# min and max wavelengths in g- and i- bands\n",
    "gband = pd.read_csv('throughputs/baseline/total_g.dat', sep=' ', header=7)\n",
    "gband.columns = ['Wavelength','Throughput']\n",
    "gWavelength = np.array(gband['Wavelength'][0:7755])\n",
    "gThroughput = gband['Throughput'][0:7755]\n",
    "\n",
    "iband = pd.read_csv('throughputs/baseline/total_i.dat', sep=' ', header=7)\n",
    "iband.columns = ['Wavelength', 'Throughput']\n",
    "iWavelength = np.asarray(iband['Wavelength'][0:7755])*u.nm\n",
    "iThroughput = iband['Throughput'][0:7755]\n",
    "\n",
    "gmin = 386.30*u.nm\n",
    "gmax = 567.00*u.nm\n",
    "imin = 675.90*u.nm\n",
    "imax = 833.00*u.nm\n",
    "\n",
    "angles = np.arange(0, 70, 5)*u.deg\n",
    "gbandR = []\n",
    "gWaves = []\n",
    "# for i in gWavelength:\n",
    "#     if i >= gmin.value and i <= gmax.value:\n",
    "#         gWaves.append(i)\n",
    "\n",
    "filter_arr1 = gWavelength >= gmin.value\n",
    "gWaves1 = gWavelength[filter_arr1]\n",
    "filter_arr2 = gWaves1 <= gmax.value\n",
    "gWaves2 = gWaves1[filter_arr2]\n",
    "print(len(gWaves2))\n",
    "\n",
    "\n",
    "for angle in angles:\n",
    "    gWavesN = calcindex(T, Ps, Pw, gWaves2*u.nm)\n",
    "    gWavesR = calcRefrac(gWavesN, B, 1, angle, pressure)\n",
    "    gbandR.append(np.max(gWavesR).value)\n",
    "\n",
    "fig, ax = plt.subplots(1,1)\n",
    "ax.plot(angles, gbandR)\n",
    "plt.show()"
   ]
  },
  {
   "cell_type": "code",
   "execution_count": null,
   "metadata": {},
   "outputs": [],
   "source": []
  }
 ],
 "metadata": {
  "kernelspec": {
   "display_name": "Python 3",
   "language": "python",
   "name": "python3"
  },
  "language_info": {
   "codemirror_mode": {
    "name": "ipython",
    "version": 3
   },
   "file_extension": ".py",
   "mimetype": "text/x-python",
   "name": "python",
   "nbconvert_exporter": "python",
   "pygments_lexer": "ipython3",
   "version": "3.7.6"
  }
 },
 "nbformat": 4,
 "nbformat_minor": 4
}
