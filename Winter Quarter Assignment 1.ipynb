{
 "cells": [
  {
   "cell_type": "code",
   "execution_count": 1,
   "metadata": {},
   "outputs": [],
   "source": [
    "import numpy as np\n",
    "import astropy.constants as c\n",
    "import matplotlib.pyplot as plt\n",
    "import astropy.units as u\n",
    "from astropy.units import cds\n",
    "cds.enable()\n",
    "import pandas as pd"
   ]
  },
  {
   "cell_type": "markdown",
   "metadata": {},
   "source": [
    "# Part 1\n",
    "## 1A: Collecting necessary data and functions"
   ]
  },
  {
   "cell_type": "code",
   "execution_count": 34,
   "metadata": {},
   "outputs": [],
   "source": [
    "latitude = -30.24463 * u.deg\n",
    "longitude = -70.74942 * u.deg\n",
    "altitude = 2647 * u.m\n",
    "p0 = 101325.0 * u.Pa\n",
    "g = c.g0 #9.80665 * u.m / u.s**2\n",
    "R0 = c.R\n",
    "T0 = 19. * u.deg_C\n",
    "lapserate = -6.5 * u.deg_C / u.km\n",
    "M = 0.0289644 * u.km/u.mol"
   ]
  },
  {
   "cell_type": "code",
   "execution_count": 35,
   "metadata": {},
   "outputs": [],
   "source": [
    "# Temperature and pressure calculations\n",
    "temperature = T0 + (lapserate * altitude)\n",
    "temperatureK = temperature.to(u.K, equivalencies=u.temperature())\n",
    "\n",
    "exponent = (-(g * M * altitude)/(R0 * temperatureK)).value\n",
    "Pressure = (p0 * np.exp(exponent)).to(u.Pa)\n",
    "humidity = 40."
   ]
  },
  {
   "cell_type": "code",
   "execution_count": 36,
   "metadata": {},
   "outputs": [],
   "source": [
    "# Air pressure and Vapor Pressure\n",
    "def calcpw(RH, tin):\n",
    "    t = tin.value\n",
    "    x = np.log(RH/100)\n",
    "    td = (238.3 * (((t + 238.3)*x + (17.2694*t)) / ((t+238.3)*(17.2694 - x) - (17.2694 * t))))\n",
    "    pw = (4.50874 + (0.341724 * td**2) + (0.184889*10**-3 * td**3) + (0.238294*10**-5 * td**4) + (0.203447*10**-7 * td**5)) * u.cds.mmHg\n",
    "    return pw\n",
    "Pw = calcpw(humidity, temperature).to(u.cds.mbar)\n",
    "T = temperatureK\n",
    "Ps = Pressure.to(u.cds.mbar) # Dry air pressure in millibars"
   ]
  },
  {
   "cell_type": "code",
   "execution_count": 55,
   "metadata": {},
   "outputs": [],
   "source": [
    "# calculating n with given variables\n",
    "def calcindex(Tin, PSin, PWin, wavelength):\n",
    "    T = Tin.to(u.K, equivalencies = u.temperature()).value\n",
    "    PS = PSin.value\n",
    "    PW = PWin.value\n",
    "    sigma = 1 / wavelength.to(u.nm).value\n",
    "    Ds = (1 + PS * (57.90e-8 - (9.3250e-4/T) + (0.25844/T**2))) * (PS/T)\n",
    "    Dw = (1 + PW * (1 + (3.7e-4 * PW))*(-2.37321e-3 + (2.23366/T) - (710.792/T**2) + (7.75141e4 / T**3))) * (PW/T)\n",
    "    term_one = (2371.34 + (683939.7/(130 - sigma**2)) + (4547.3/(38.9 - sigma**2))) * Ds\n",
    "    term_two = ((6487.31 + (58.058 * sigma**2) - (0.71150 * sigma**4) + (0.08851 * sigma**6))) * Dw\n",
    "    n = ((term_one + term_two) / (1e8))\n",
    "#     n = ((2371.34 + (683939.7 / (130 - sig**2)) + (4547.3 / (38.9 - sig**2)))*Ds + (6487.31 + 58.058*sig**2 - 0.71150*sig**4 + 0.08851*sig**6)*Dw)\n",
    "#     n2 = (n / 1e8) + 1\n",
    "    return n\n",
    "\n",
    "def calcBeta(TKin):\n",
    "    beta = 0.001254 * ((TKin.value)/273.15)\n",
    "    return beta\n",
    "\n",
    "# will define kappa function but will set kappa=1 for our purposes\n",
    "def calcKappa(phideg, height):\n",
    "    phi = (phideg.to(u.rad)).value\n",
    "    kappa = 1 + 0.005302*np.sin(phi)**2 - 0.00000583*np.sin(2*phi)**2 - 0.000000315*height.value\n",
    "    return kappa\n",
    "\n",
    "def calcRefrac(n, beta, k, z, pressure):\n",
    "    z0 = z.to(u.rad)\n",
    "    gamma = (n-1)*(p0 / pressure)\n",
    "    n0 = gamma + 1\n",
    "    refraction = (k * gamma * (1 - beta) * np.tan(z0)) - (k * gamma * (beta - (gamma / 2)) * (np.tan(z0))**3)\n",
    "    return refraction\n",
    "\n",
    "def calcplotALL(Tin, PSin, PWin, wavelength, Zin, pressure, minwl=None, maxwl=None):\n",
    "    ### Calculations\n",
    "    Zuse = Zin.to(u.rad)\n",
    "    Nuse = calcindex(Tin, PSin, PWin, wavelength)\n",
    "    Buse = calcBeta(Tin)\n",
    "    Kuse = 1\n",
    "    Refraction = calcRefrac(Nuse, Buse, Kuse, Zuse, pressure)\n",
    "    ### Plotting Calculations\n",
    "    fig, ax = plt.subplots(1,1, figsize=(8,8))\n",
    "    ax.plot(wavelength, Refraction)\n",
    "    wl_min = minwl if minwl is not None else np.min(wavelength)\n",
    "    wl_max = maxwl if maxwl is not None else np.max(wavelength)\n",
    "    ax.set_xlim(wl_min.value, wl_max.value)\n",
    "    ax.set_xlabel('Wavelength (nm)')\n",
    "    ax.set_ylabel(f'Refraction Index at {Zin.to(u.deg)} zenith angle')\n",
    "    plt.show()\n",
    "    return"
   ]
  },
  {
   "cell_type": "code",
   "execution_count": 56,
   "metadata": {
    "jupyter": {
     "source_hidden": true
    }
   },
   "outputs": [],
   "source": [
    "gband = pd.read_csv('throughputs/baseline/total_g.dat', sep=' ', header=7)\n",
    "gband.columns = ['Wavelength','Throughput']\n",
    "gWavelength = np.array(gband['Wavelength'][0:7755]) * u.nm\n",
    "gThroughput = gband['Throughput'][0:7755]\n",
    "\n",
    "iband = pd.read_csv('throughputs/baseline/total_i.dat', sep=' ', header=7)\n",
    "iband.columns = ['Wavelength', 'Throughput']\n",
    "iWavelength = np.array(iband['Wavelength'][0:7755]) * u.nm\n",
    "iThroughput = iband['Throughput'][0:7755]"
   ]
  },
  {
   "cell_type": "code",
   "execution_count": 64,
   "metadata": {},
   "outputs": [
    {
     "data": {
      "image/png": "[encoded data removed]",
      "text/plain": [
       "<Figure size 576x576 with 1 Axes>"
      ]
     },
     "metadata": {
      "needs_background": "light"
     },
     "output_type": "display_data"
    }
   ],
   "source": [
    "# defining input zenith angle, wavelength range to work in\n",
    "wavelengths = np.linspace(300, 1000, 100) * u.nm\n",
    "Zin = 30 * u.deg\n",
    "\n",
    "# checking refraction calculations \n",
    "N = calcindex(temperatureK, Ps, Pw, wavelengths)\n",
    "B = calcBeta(temperatureK)\n",
    "R = calcRefrac(N, B, 1, Zin, Pressure)\n",
    "\n",
    "# plotting refraction calculations\n",
    "gmin = 386.30*u.nm\n",
    "gmax = 567.00*u.nm\n",
    "imin = 675.90*u.nm\n",
    "imax = 833.00*u.nm\n",
    "\n",
    "calcplotALL(temperature, Ps, Pw, wavelengths, Zin, Pressure, minwl=300*u.nm, maxwl=1000*u.nm)"
   ]
  },
  {
   "cell_type": "code",
   "execution_count": 52,
   "metadata": {
    "collapsed": true,
    "jupyter": {
     "outputs_hidden": true,
     "source_hidden": true
    }
   },
   "outputs": [
    {
     "data": {
      "image/png": "[encoded data removed]",
      "text/plain": [
       "<Figure size 432x288 with 1 Axes>"
      ]
     },
     "metadata": {
      "needs_background": "light"
     },
     "output_type": "display_data"
    }
   ],
   "source": [
    "fig, ax = plt.subplots(1,1)"
   ]
  },
  {
   "cell_type": "code",
   "execution_count": null,
   "metadata": {},
   "outputs": [],
   "source": []
  }
 ],
 "metadata": {
  "kernelspec": {
   "display_name": "Python 3",
   "language": "python",
   "name": "python3"
  },
  "language_info": {
   "codemirror_mode": {
    "name": "ipython",
    "version": 3
   },
   "file_extension": ".py",
   "mimetype": "text/x-python",
   "name": "python",
   "nbconvert_exporter": "python",
   "pygments_lexer": "ipython3",
   "version": "3.7.6"
  }
 },
 "nbformat": 4,
 "nbformat_minor": 4
}
